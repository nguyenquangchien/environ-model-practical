{
 "cells": [
  {
   "cell_type": "markdown",
   "metadata": {},
   "source": [
    "# Solar irradiance on sloping terrain\n",
    "\n",
    "This module determines the terrain gradient, aspects and solar irradiance on a terrain specified by a 2-D array."
   ]
  },
  {
   "cell_type": "code",
   "execution_count": null,
   "metadata": {},
   "outputs": [],
   "source": [
    "import math\n",
    "import numpy as np"
   ]
  },
  {
   "cell_type": "code",
   "execution_count": 1,
   "metadata": {},
   "outputs": [],
   "source": [
    "def readarr(filename):\n",
    "    \"\"\" Reads the digital elevation data stored in the form \n",
    "        of triplets (Easting, Northing, elevation) into\n",
    "        a Python dictionary resembling a 2-D array,\n",
    "        but more flexible in that it allows indices to\n",
    "        store real false Easting/Northing (i.e. indicies\n",
    "        not necessary starting from 0).\"\"\"\n",
    "    with open(filename) as f:\n",
    "        elevation = {}\n",
    "        for line in f:\n",
    "            x, y, z, *_ = line.split()   # discard remaining contents after z\n",
    "            x, y, z = int(x), int(y), int(z)    # string --> int\n",
    "            elevation[(x,y)] = z\n",
    "        return elevation"
   ]
  },
  {
   "cell_type": "code",
   "execution_count": 2,
   "metadata": {},
   "outputs": [],
   "source": [
    "elev = readarr('efyrnwy.dem')"
   ]
  },
  {
   "cell_type": "code",
   "execution_count": 9,
   "metadata": {},
   "outputs": [
    {
     "data": {
      "text/plain": [
       "407"
      ]
     },
     "execution_count": 9,
     "metadata": {},
     "output_type": "execute_result"
    }
   ],
   "source": [
    "elev.keys()\n",
    "elev[(295000, 315000)]"
   ]
  },
  {
   "cell_type": "markdown",
   "metadata": {},
   "source": [
    "Formulae for the EW gradient:\n",
    "\n",
    "$$ \\text{gradEW} = \\frac{\\text{elev}[E-\\Delta, N] - \\text{elev}[E + \\Delta, N]}{2 \\Delta} $$\n",
    "\n",
    "the NS gradient:\n",
    "\n",
    "$$ \\text{gradNS} = \\frac{\\text{elev}[E, N+\\Delta] - \\text{elev}[E, N - \\Delta]}{2 \\Delta} $$\n",
    "\n",
    "the overall slope angle:\n",
    "\n",
    "$$ \\theta = \\tan^{-1} \\left( \\sqrt{\\text{gradEW}^2 + \\text{gradNS}^2} \\right) $$\n",
    "\n",
    "the aspect:\n",
    "\n",
    "$$ \\phi = 180 + \\tan^{-1} \\left( -\\frac{\\text{gradEW}}{\\text{gradNS}} \\right) $$"
   ]
  },
  {
   "cell_type": "code",
   "execution_count": null,
   "metadata": {},
   "outputs": [],
   "source": [
    "def gradasp(demfile, size):\n",
    "    \"\"\" Takes a 2D DEM and for each cell determines the local \n",
    "    gradient and aspect using the method of Zevenbergen \n",
    "    and Thorne (1987). Prints out two files, each \n",
    "    containing the coordinates of the cell concerned \n",
    "    and either (i) its gradient or (ii) its aspect.\n",
    "    \n",
    "    Parameters\n",
    "    ----------\n",
    "    `demfile`   Name of DEM input file\n",
    "    `size`      DEM cell size (metres)\n",
    "\n",
    "    Variables\n",
    "    ---------\n",
    "    min_E      eastern-most Easting in DEM\n",
    "    max_E      western-most Easting in DEM\n",
    "    min_N      southern-most Northing in DEM\n",
    "    min_N      northern-most Northing in DEM\n",
    "    this_E     Easting of current cell\n",
    "    this_N     Northing of current cell\n",
    "    gradNS     Gradient of current cell measured North-South\n",
    "    gradEW     Gradient of current cell measured East-West\n",
    "    gradient   Gradient of current cell\n",
    "    aspect     Aspect of current cell\n",
    "    elevation  2D array storing the DEM\n",
    "    rad2deg    Conversion factor - radians to degrees. \"\"\"\n",
    "    \n",
    "    \n",
    "    PI = math.pi\n",
    "    rad2deg = 360.0/(2*PI)\n",
    "\n",
    "    with open(demfile) as f:\n",
    "        first_line = True\n",
    "        for line in f:\n",
    "            E, N, z, *_ = line.split()   # discard remaining contents after z\n",
    "            E, N, z = int(E), int(N), int(z)    # string --> int\n",
    "            \n",
    "            # Initialize minimum and maximum Easting and Northing \n",
    "            # of the DEM\n",
    "            if first_line:\n",
    "                min_E, max_E, min_N, max_N = E, E, N, N\n",
    "            \n",
    "            if E < min_E: min_E = E   # Determine minimum and\n",
    "            if E > max_E: max_E = E   # maximum Eastings and\n",
    "            if N < min_N: min_N = N   # Northings (i.e., limits)\n",
    "            if N > max_N: max_N = N   # of DEM\n",
    "            \n",
    "    # Pass across DEM by Easting\n",
    "    with open(\"aspect.dem\", \"w\") as f_asp, open(\"gradient.dem\", \"w\") as f_grad:\n",
    "        gradient = {}\n",
    "        for this_E in range(min_E+size, max_E, size):\n",
    "        \n",
    "            # Pass up through DEM by Northing\n",
    "            for this_N in range(min_N+size, max_N, size):\n",
    "            \n",
    "                # Calculate Zevenbergen and Thorne's (1987) parameters\n",
    "                gradEW = (z[this_E-size,this_N]- \\\n",
    "                        z[this_E+size,this_N])/(2*size);\n",
    "                gradNS = (z[this_E,this_N+size]- \\\n",
    "                        z[this_E,this_N-size])/(2*size);\n",
    "                \n",
    "                # Calculate the gradient (degrees)\n",
    "                gradient[(this_E,this_N)]=rad2deg*\\\n",
    "                        (gradNS*gradNS + gradEW*gradEW)**0.5;\n",
    "                # Print this value out to a file\n",
    "                f_grad.write(\"%6i %6i %5.2f\\n\", this_E, this_N, \n",
    "                            gradient[this_E,this_N])\n",
    "                \n",
    "                # Calculate the aspect (degrees)\n",
    "                aspect = 180 + rad2deg * math.atan2(-gradEW,gradNS);\n",
    "                # Print this value out to a file\n",
    "                f_asp.write(\"%6i %6i %3i\\n\", this_E, this_N, \n",
    "                            aspect)\n"
   ]
  },
  {
   "cell_type": "markdown",
   "metadata": {},
   "source": []
  },
  {
   "cell_type": "markdown",
   "metadata": {},
   "source": []
  }
 ],
 "metadata": {
  "interpreter": {
   "hash": "a8f61be024eba58adef938c9aa1e29e02cb3dece83a5348b1a2dafd16a070453"
  },
  "kernelspec": {
   "display_name": "Python 3.8.8 64-bit ('base': conda)",
   "language": "python",
   "name": "python3"
  },
  "language_info": {
   "codemirror_mode": {
    "name": "ipython",
    "version": 3
   },
   "file_extension": ".py",
   "mimetype": "text/x-python",
   "name": "python",
   "nbconvert_exporter": "python",
   "pygments_lexer": "ipython3",
   "version": "3.8.8"
  },
  "orig_nbformat": 4
 },
 "nbformat": 4,
 "nbformat_minor": 2
}
