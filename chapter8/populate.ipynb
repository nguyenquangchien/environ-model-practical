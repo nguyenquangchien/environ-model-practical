{
 "cells": [
  {
   "cell_type": "code",
   "execution_count": null,
   "metadata": {},
   "outputs": [],
   "source": [
    "import sys\n",
    "import numpy as np\n",
    "import matplotlib.pyplot as plt"
   ]
  },
  {
   "cell_type": "markdown",
   "metadata": {},
   "source": [
    "## Coding functions"
   ]
  },
  {
   "cell_type": "code",
   "execution_count": null,
   "metadata": {},
   "outputs": [],
   "source": [
    "def discrete(pop_init, lam, period):\n",
    "   \"\"\" Discrete model of unconstrained (density-independent)  \n",
    "      population growth\n",
    "\n",
    "      Parameters\n",
    "      ----------\n",
    "      `pop_init`  initial population\n",
    "      `lam`       discrete (finite) rate of population growth\n",
    "      `period`    period (time steps) over which growth modeled\n",
    "   \"\"\"\n",
    "   for time_step in range(period+1):\n",
    "      print(time_step, pop_init*(lam**time_step))"
   ]
  },
  {
   "cell_type": "code",
   "execution_count": null,
   "metadata": {},
   "outputs": [],
   "source": [
    "def continuous(pop_init, growth_rate, period):\n",
    "   \"\"\" Continuous model of unconstrained (density-independent)\n",
    "      population growth\n",
    " \n",
    "      Parameters\n",
    "      ----------\n",
    "      `pop_init`     initial population\n",
    "      `growth_rate`  instantaneous (intrinsic) growth rate\n",
    "      `period`       period of time over which growth is modeled\n",
    "   \"\"\"\n",
    "   for time in range(period+1):\n",
    "      print(time, pop_init * np.exp(growth_rate*time))"
   ]
  },
  {
   "cell_type": "code",
   "execution_count": null,
   "metadata": {},
   "outputs": [],
   "source": [
    "def cntlogst(pop_init, growth_rate, carry_cap, period):\n",
    "   \"\"\" Continuous-time model of density-dependent (constrained)\n",
    "      population growth, based on the Verhulst (logistic) equation\n",
    " \n",
    "      Parameters\n",
    "      ----------\n",
    "      `pop_init`     initial population\n",
    "      `growth_rate`  instantaneous (intrinsic) growth rate\n",
    "      `carry_cap`    carrying capacity\n",
    "      `period`       period of time over which growth is modeled\n",
    "   \"\"\"\n",
    "   for time in range(period+1):\n",
    "      pop_now = carry_cap/(1+((carry_cap-pop_init)/pop_init)* \\\n",
    "\t\t\tnp.exp(-growth_rate*time))\n",
    "      print(time, pop_now)"
   ]
  },
  {
   "cell_type": "code",
   "execution_count": null,
   "metadata": {},
   "outputs": [],
   "source": [
    "def dsclogst(pop, growth_rate, carry_cap, steps):\n",
    "   \"\"\" Discrete model of unconstrained (density-independent)  \n",
    "      population growth\n",
    "\n",
    "      Parameters\n",
    "      ----------\n",
    "      `pop`          population at time step\n",
    "      `growth_rate`  instantaneous (intrinsic) growth rate\n",
    "      `carry_cap`    carrying capacity\n",
    "      `steps`        total number of time steps\n",
    "\n",
    "   \"\"\"\n",
    "   for time_step in range(steps+1):\n",
    "      print(time_step, pop)\n",
    "      pop =pop * np.exp(growth_rate*(1-pop/carry_cap));"
   ]
  },
  {
   "cell_type": "code",
   "execution_count": null,
   "metadata": {},
   "outputs": [],
   "source": [
    "def euler(dt):\n",
    "    \"\"\" Continuous-time model of density-dependent (constrained)\n",
    "        population growth, based on the Verhulst (logistic)\n",
    "        equation (see Eq. 22), solved using Euler's method of\n",
    "        numerical integration.\n",
    "\n",
    "        Parameters\n",
    "        ----------\n",
    "        `pop`          population at time step\n",
    "        `growth_rate`  instantaneous (intrinsic) growth rate\n",
    "        `carry_cap`    carrying capacity\n",
    "        `time`         current time\n",
    "        `stop_time`    time at which simulation should stop\n",
    "        `dt`           integration step size (1/steps)\n",
    "    \"\"\"\n",
    "    pop = 10.0\n",
    "    growth_rate = 0.5\n",
    "    carry_cap = 1000\n",
    "    time = 0\n",
    "    stop_time = 10\n",
    "\n",
    "    while time <= stop_time:\n",
    "        print(\"%.1f\\t%.3f\" %(time, pop))\n",
    "        time += dt\n",
    "        delta_pop = growth_rate * pop * (1-(pop/carry_cap)) * dt\n",
    "        pop += delta_pop"
   ]
  },
  {
   "cell_type": "code",
   "execution_count": null,
   "metadata": {},
   "outputs": [],
   "source": [
    "def rk4(dt):\n",
    "    \"\"\" Continuous-time model of density-dependent (constrained)\n",
    "        population growth, based on the Verhulst (logistic)\n",
    "        equation (see Eq. 22), solved using fourth-order\n",
    "        Runge-Kutta numerical integration (Harris and Stocker, 1998)\n",
    "\n",
    "        Parameters\n",
    "        ----------\n",
    "        `pop`          population at time step\n",
    "        `growth_rate`  instantaneous (intrinsic) growth rate\n",
    "        `carry_cap`    carrying capacity\n",
    "        `time`         current time\n",
    "        `stop_time`    time at which simulation should stop\n",
    "        `dt`           integration step size\n",
    "    \"\"\"\n",
    "    pop = 10.0\n",
    "    growth_rate = 0.5\n",
    "    carry_cap = 1000\n",
    "    time = 0\n",
    "    stop_time = 10\n",
    "\n",
    "    while time <= stop_time:\n",
    "        print(\"%.1f\\t%.3f\" %(time, pop))\n",
    "        k1 = growth_rate * pop * (1 - (pop/carry_cap));\n",
    "        pop_k1 = pop + k1 * dt / 2.0;\n",
    "        k2 = growth_rate * pop_k1 * (1 - (pop_k1/carry_cap));\n",
    "        pop_k2 = pop + k2 * dt / 2.0;\n",
    "        k3 = growth_rate*pop_k2*(1-(pop_k2/carry_cap));\n",
    "        pop_k3 = pop + k3 * dt;\n",
    "        k4 = growth_rate * pop_k3 * (1 - (pop_k3/carry_cap));\n",
    "        pop += (1.0/6.0) * (k1 + 2.0*k2 + 2.0*k3 + k4) * dt;\n",
    "        time += dt\n"
   ]
  },
  {
   "cell_type": "code",
   "execution_count": null,
   "metadata": {},
   "outputs": [],
   "source": [
    "def compete(datafile):\n",
    "    \"\"\" Simple model of population growth with inter-specific\n",
    "        competition described by the Lokta-Volterra equations \n",
    "        (Eqs. 4 and 5), solved using Euler's method of\n",
    "        numerical integration.\n",
    "\n",
    "        Parameters\n",
    "        ----------\n",
    "        `datafile`  Name of text file containing the following params\n",
    "                    (in the corresponding order)\n",
    "                    On each line, there is a parameter name following by the value\n",
    "                    for example\n",
    "                    pop_1   10\n",
    "                    pop_2   20\n",
    "\n",
    "        `pop_1`     Initial population density, species 1\n",
    "        `pop_2`     Initial population density, species 2\n",
    "        `carry_1`   Carrying capacity, species 1\n",
    "        `carry_2`   Carrying capacity, species 2\n",
    "        `alpha`     Competition coefficients, species 1\n",
    "        `beta`      Competition coefficients, species 2\n",
    "        `growth_1`  Growth rate, species 1\t\n",
    "        `growth_2`  Growth rate, species 2\n",
    "        `stop_time` Time period after which simulation should stop\n",
    "        `dt`        Time step for numerical integration\n",
    "\n",
    "        State variable\n",
    "        --------------\n",
    "        `time`      Current time\n",
    "    \"\"\"\n",
    "\n",
    "    listparm = []\n",
    "    with open(datafile) as f:\n",
    "        lines = f.readlines()\n",
    "    \n",
    "    for data in lines:\n",
    "        listparm.append(float(data.split()[1]))\n",
    "    \n",
    "    pop_1, pop_2, carry_1, carry_2, alpha, beta, \\\n",
    "            growth_1, growth_2, stop_time, dt = listparm\n",
    "\n",
    "    time = 0\n",
    "    while time <= stop_time:\n",
    "        print(time, pop_1, pop_2)\n",
    "        # Increment time by dt\n",
    "        time += dt\n",
    "        # Calculate change in population species 1 (Eq. 4)\n",
    "        delta_pop_1 = dt * growth_1 * pop_1 * \\\n",
    "                    (carry_1 - pop_1 - alpha*pop_2) / carry_1\n",
    "        # Calculate change in population species 2 (Eq. 5)\n",
    "        delta_pop_2 = dt *growth_2 * pop_2 * \\\n",
    "                    (carry_2 - pop_2 - beta*pop_1) / carry_2\n",
    "        # Calculate new population sizes species 1 and 2\n",
    "        pop_1 += delta_pop_1\n",
    "        pop_2 += delta_pop_2\n"
   ]
  },
  {
   "cell_type": "code",
   "execution_count": null,
   "metadata": {},
   "outputs": [],
   "source": [
    "def predprey(dt):\n",
    "    \"\"\" A simple model of predator-prey interaction based\n",
    "        on the Lotka-Volterra equations (see Equations 8.31 and \n",
    "        8.32), solved using fourth-order Runge-Kutta numerical \n",
    "        integration techniques.\n",
    "    \"\"\"\n",
    "    prey = 20.0       # Population density, prey (N_1)\n",
    "    pred = 20.0       # Population density, predator (N_2)\n",
    "    death = 0.6       # Death rate, predator species (d)\n",
    "    p_coeff = 0.1     # Coefficient of predation (a)\n",
    "    p_effic = 0.5     # Predator efficiency (b)\n",
    "    growth_rate = 0.9 # Growth rate, prey species (r)\n",
    "    time_stop = 60    # Time at which simulation should stop (t)\n",
    "    time = 0          # Current time\n",
    "\n",
    "    while(time<=time_stop):\n",
    "        print(time, prey, pred)\n",
    "\n",
    "        time += dt\n",
    "\n",
    "        # Prey species (Eq. 8.31), predator species (Eq. 8.32)\n",
    "        k1_prey = growth_rate*prey - p_coeff*prey*pred\n",
    "        k1_pred = p_effic*p_coeff*prey*pred - death*pred\n",
    "        prey_1 = prey + k1_prey * dt/2\n",
    "        pred_1 = pred + k1_pred * dt/2\n",
    "        k2_prey = (growth_rate * prey_1) - (p_coeff * prey_1 * pred_1)\n",
    "        k2_pred = (p_effic * p_coeff * prey_1 *pred_1) - (death * pred_1)\n",
    "        prey_2 = prey + k2_prey * dt/2\n",
    "        pred_2 = pred + k2_pred * dt/2\n",
    "        k3_prey = (growth_rate * prey_2) - (p_coeff * prey_2 * pred_2)\n",
    "        k3_pred = (p_effic * p_coeff * prey_2 * pred_2) - (death * pred_2)\n",
    "        prey_3 = prey + k3_prey*dt\n",
    "        pred_3 = pred + k3_pred*dt    \n",
    "        k4_prey = (growth_rate * prey_3) - (p_coeff * prey_3 * pred_3)\n",
    "        k4_pred = (p_effic * p_coeff * prey_3 * pred_3) - (death * pred_3)\n",
    "\n",
    "        # Calculate revised populations\n",
    "        prey += (1/6) * (k1_prey + 2*k2_prey + 2*k3_prey + k4_prey) * dt\n",
    "        pred += (1/6) * (k1_pred + 2*k2_pred + 2*k3_pred + k4_pred) * dt\t\n"
   ]
  },
  {
   "cell_type": "markdown",
   "metadata": {},
   "source": [
    "## Testing"
   ]
  },
  {
   "cell_type": "code",
   "execution_count": null,
   "metadata": {},
   "outputs": [],
   "source": [
    "discrete(10, 1.05, 50)"
   ]
  },
  {
   "cell_type": "code",
   "execution_count": null,
   "metadata": {},
   "outputs": [],
   "source": [
    "discrete(10, 1.06, 50)"
   ]
  },
  {
   "cell_type": "code",
   "execution_count": null,
   "metadata": {},
   "outputs": [],
   "source": [
    "discrete(10, 1.07, 50)"
   ]
  },
  {
   "cell_type": "code",
   "execution_count": null,
   "metadata": {},
   "outputs": [],
   "source": [
    "continuous(10, 0.05, 50)"
   ]
  },
  {
   "cell_type": "code",
   "execution_count": null,
   "metadata": {},
   "outputs": [],
   "source": [
    "cntlogst(10, 0.05, 1000, 200)"
   ]
  },
  {
   "cell_type": "code",
   "execution_count": null,
   "metadata": {},
   "outputs": [],
   "source": [
    "dsclogst(10, 0.05, 1000, 200)"
   ]
  },
  {
   "cell_type": "code",
   "execution_count": null,
   "metadata": {},
   "outputs": [],
   "source": [
    "euler(1.0)"
   ]
  },
  {
   "cell_type": "code",
   "execution_count": null,
   "metadata": {},
   "outputs": [],
   "source": [
    "rk4(1.0)"
   ]
  },
  {
   "cell_type": "code",
   "execution_count": null,
   "metadata": {},
   "outputs": [],
   "source": [
    "compete('params1.dat')"
   ]
  },
  {
   "cell_type": "code",
   "execution_count": null,
   "metadata": {},
   "outputs": [],
   "source": [
    "predprey(0.01)"
   ]
  },
  {
   "cell_type": "markdown",
   "metadata": {},
   "source": [
    "## Store results into text files"
   ]
  },
  {
   "cell_type": "code",
   "execution_count": null,
   "metadata": {},
   "outputs": [],
   "source": [
    "%%capture cap_d105\n",
    "discrete(10, 1.05, 50)"
   ]
  },
  {
   "cell_type": "code",
   "execution_count": null,
   "metadata": {},
   "outputs": [],
   "source": [
    "%%capture cap_d106\n",
    "discrete(10, 1.06, 50)"
   ]
  },
  {
   "cell_type": "code",
   "execution_count": null,
   "metadata": {},
   "outputs": [],
   "source": [
    "%%capture cap_d107\n",
    "discrete(10, 1.07, 50)"
   ]
  },
  {
   "cell_type": "code",
   "execution_count": null,
   "metadata": {},
   "outputs": [],
   "source": [
    "%%capture cap_c005\n",
    "continuous(10, 0.05, 50)"
   ]
  },
  {
   "cell_type": "code",
   "execution_count": null,
   "metadata": {},
   "outputs": [],
   "source": [
    "%%capture cap_c006\n",
    "continuous(10, 0.06, 50)"
   ]
  },
  {
   "cell_type": "code",
   "execution_count": null,
   "metadata": {},
   "outputs": [],
   "source": [
    "%%capture cap_c007\n",
    "continuous(10, 0.07, 50)"
   ]
  },
  {
   "cell_type": "code",
   "execution_count": null,
   "metadata": {},
   "outputs": [],
   "source": [
    "%%capture cap_cl005\n",
    "cntlogst(10, 0.05, 1000, 200)"
   ]
  },
  {
   "cell_type": "code",
   "execution_count": null,
   "metadata": {},
   "outputs": [],
   "source": [
    "%%capture cap_cl006\n",
    "cntlogst(10, 0.06, 1000, 200)"
   ]
  },
  {
   "cell_type": "code",
   "execution_count": null,
   "metadata": {},
   "outputs": [],
   "source": [
    "%%capture cap_cl007\n",
    "cntlogst(10, 0.07, 1000, 200)"
   ]
  },
  {
   "cell_type": "code",
   "execution_count": null,
   "metadata": {},
   "outputs": [],
   "source": [
    "%%capture cap_dl005\n",
    "dsclogst(10, 0.05, 1000, 200)"
   ]
  },
  {
   "cell_type": "code",
   "execution_count": null,
   "metadata": {},
   "outputs": [],
   "source": [
    "%%capture cap_dl006\n",
    "dsclogst(10, 0.06, 1000, 200)"
   ]
  },
  {
   "cell_type": "code",
   "execution_count": null,
   "metadata": {},
   "outputs": [],
   "source": [
    "%%capture cap_dl007\n",
    "dsclogst(10, 0.07, 1000, 200)"
   ]
  },
  {
   "cell_type": "code",
   "execution_count": null,
   "metadata": {},
   "outputs": [],
   "source": [
    "%%capture cap_e1\n",
    "euler(1.0)"
   ]
  },
  {
   "cell_type": "code",
   "execution_count": null,
   "metadata": {},
   "outputs": [],
   "source": [
    "%%capture cap_e05\n",
    "euler(0.5)"
   ]
  },
  {
   "cell_type": "code",
   "execution_count": null,
   "metadata": {},
   "outputs": [],
   "source": [
    "%%capture cap_e01\n",
    "euler(0.1)"
   ]
  },
  {
   "cell_type": "code",
   "execution_count": null,
   "metadata": {},
   "outputs": [],
   "source": [
    "%%capture cap_rk4\n",
    "rk4(0.1)"
   ]
  },
  {
   "cell_type": "code",
   "execution_count": null,
   "metadata": {},
   "outputs": [],
   "source": [
    "%%capture cap_cpt1\n",
    "compete('params1.dat')"
   ]
  },
  {
   "cell_type": "code",
   "execution_count": null,
   "metadata": {},
   "outputs": [],
   "source": [
    "%%capture cap_cpt2\n",
    "compete('params2.dat')"
   ]
  },
  {
   "cell_type": "code",
   "execution_count": null,
   "metadata": {},
   "outputs": [],
   "source": [
    "%%capture cap_pp\n",
    "predprey(0.01)"
   ]
  },
  {
   "cell_type": "code",
   "execution_count": null,
   "metadata": {},
   "outputs": [],
   "source": [
    "with open('discr105.dat', 'w') as f: f.write(cap_d105.stdout)\n",
    "with open('discr106.dat', 'w') as f: f.write(cap_d106.stdout)\n",
    "with open('discr107.dat', 'w') as f: f.write(cap_d107.stdout)\n",
    "with open('cont005.dat', 'w') as f: f.write(cap_c005.stdout)\n",
    "with open('cont006.dat', 'w') as f: f.write(cap_c006.stdout)\n",
    "with open('cont007.dat', 'w') as f: f.write(cap_c007.stdout)\n",
    "with open('c_log005.dat', 'w') as f: f.write(cap_cl005.stdout)\n",
    "with open('c_log006.dat', 'w') as f: f.write(cap_cl006.stdout)\n",
    "with open('c_log007.dat', 'w') as f: f.write(cap_cl007.stdout)\n",
    "with open('d_log005.dat', 'w') as f: f.write(cap_dl005.stdout)\n",
    "with open('d_log006.dat', 'w') as f: f.write(cap_dl006.stdout)\n",
    "with open('d_log007.dat', 'w') as f: f.write(cap_dl007.stdout)\n",
    "with open('euler1.dat', 'w') as f: f.write(cap_e1.stdout)\n",
    "with open('euler05.dat', 'w') as f: f.write(cap_e05.stdout)\n",
    "with open('euler01.dat', 'w') as f: f.write(cap_e01.stdout)\n",
    "with open('rk4.dat', 'w') as f: f.write(cap_rk4.stdout)\n",
    "with open('compete1.dat', 'w') as f: f.write(cap_cpt1.stdout)\n",
    "with open('compete2.dat', 'w') as f: f.write(cap_cpt2.stdout)\n",
    "with open('predprey.dat', 'w') as f: f.write(cap_pp.stdout)"
   ]
  },
  {
   "cell_type": "markdown",
   "metadata": {},
   "source": [
    "## Plotting"
   ]
  },
  {
   "cell_type": "code",
   "execution_count": null,
   "metadata": {},
   "outputs": [],
   "source": []
  }
 ],
 "metadata": {
  "interpreter": {
   "hash": "a8f61be024eba58adef938c9aa1e29e02cb3dece83a5348b1a2dafd16a070453"
  },
  "kernelspec": {
   "display_name": "Python 3.8.8 64-bit ('base': conda)",
   "language": "python",
   "name": "python3"
  },
  "language_info": {
   "codemirror_mode": {
    "name": "ipython",
    "version": 3
   },
   "file_extension": ".py",
   "mimetype": "text/x-python",
   "name": "python",
   "nbconvert_exporter": "python",
   "pygments_lexer": "ipython3",
   "version": "3.8.8"
  },
  "orig_nbformat": 4
 },
 "nbformat": 4,
 "nbformat_minor": 2
}
